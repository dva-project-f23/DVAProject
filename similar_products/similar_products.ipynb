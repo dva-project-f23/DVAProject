{
 "cells": [
  {
   "cell_type": "code",
   "execution_count": null,
   "metadata": {
    "id": "8ChpFdOUzxth"
   },
   "outputs": [],
   "source": [
    "import pandas as pd\n",
    "import gzip\n",
    "import json\n",
    "import networkx as nx\n",
    "import matplotlib.pyplot as plt\n",
    "import plotly.graph_objects as go\n",
    "from math import cos, sin, pi\n",
    "from bs4 import BeautifulSoup"
   ]
  },
  {
   "cell_type": "code",
   "execution_count": null,
   "metadata": {
    "id": "x6r__kBCz9jY"
   },
   "outputs": [],
   "source": [
    "# DataFrame\n",
    "def getDF(path):\n",
    "    i = 0\n",
    "    df = {}\n",
    "    for d in parse(path):\n",
    "        df[i] = d\n",
    "        i += 1\n",
    "    return pd.DataFrame.from_dict(df, orient='index')\n",
    "def print_json_keys(filename):\n",
    "    with gzip.open(filename, 'rb') as f:\n",
    "        json_obj = json.loads(f.readline())\n",
    "        print(json_obj.keys())\n",
    "print_json_keys('meta_Appliances.json.gz')\n"
   ]
  },
  {
   "cell_type": "code",
   "execution_count": null,
   "metadata": {},
   "outputs": [],
   "source": [
    "def get_product_at_index(path, product_index):\n",
    "    for i, product_data in enumerate(parse(path)):\n",
    "        if i == product_index:\n",
    "            return product_data\n",
    "    return None"
   ]
  },
  {
   "cell_type": "code",
   "execution_count": null,
   "metadata": {},
   "outputs": [],
   "source": [
    "# Index of the product to display\n",
    "product_index = 31\n",
    "product_data = get_product_at_index('meta_Appliances.json.gz', product_index)"
   ]
  },
  {
   "cell_type": "code",
   "execution_count": null,
   "metadata": {},
   "outputs": [],
   "source": [
    "# All data for a given index\n",
    "keys_to_visualize = ['category', 'tech1', 'description', 'fit', 'title', 'also_buy', 'tech2', \n",
    "                     'brand', 'feature', 'rank', 'also_view', 'details', 'main_cat', 'similar_item']\n",
    "\n",
    "def create_plotly_table(data, title):\n",
    "    fig = go.Figure(data=[go.Table(\n",
    "        header=dict(values=[title]),\n",
    "        cells=dict(values=[data if isinstance(data, list) else [data]])\n",
    "    )])\n",
    "    fig.show()\n",
    "\n",
    "for key in keys_to_visualize:\n",
    "    data_for_key = product_data.get(key, 'N/A')  # Get the data for the key or 'N/A' if not found\n",
    "    create_plotly_table(data_for_key, key)"
   ]
  },
  {
   "cell_type": "code",
   "execution_count": null,
   "metadata": {},
   "outputs": [],
   "source": [
    "# Retrieve similar products\n",
    "also_buy_asins = product_data.get('also_buy', []) if product_data else []\n",
    "\n",
    "\n",
    "similar_items_titles = []\n",
    "for asin in also_buy_asins:\n",
    "    product_info = next((data for data in parse('meta_Appliances.json.gz') if data.get('asin') == asin), None)\n",
    "    if product_info:\n",
    "        similar_items_titles.append(product_info.get('title', 'Title not found'))"
   ]
  },
  {
   "cell_type": "code",
   "execution_count": null,
   "metadata": {},
   "outputs": [],
   "source": [
    "# table of similar products\n",
    "product_title = product_data.get('title', 'Product Title')\n",
    "table_title = f\"Similar items to '{product_title}'\"\n",
    "\n",
    "fig = go.Figure(data=[go.Table(\n",
    "    header=dict(values=[table_title]),\n",
    "    cells=dict(values=[similar_items_titles])\n",
    ")]).update_layout(\n",
    "    title=table_title,\n",
    "    title_x=0.5\n",
    ")\n",
    "\n",
    "fig.show()"
   ]
  },
  {
   "cell_type": "code",
   "execution_count": null,
   "metadata": {},
   "outputs": [],
   "source": [
    "# Function to calculate node positions\n",
    "def calculate_node_positions(num_nodes, radius):\n",
    "    angles = [2 * pi * i / num_nodes for i in range(num_nodes)]\n",
    "    return [(radius * cos(angle), radius * sin(angle)) for angle in angles]\n",
    "\n",
    "# Function to create edge traces\n",
    "def create_edge_traces(node_positions):\n",
    "    edges_x, edges_y = [], []\n",
    "    for x, y in node_positions:\n",
    "        edges_x.extend([0, x, None])\n",
    "        edges_y.extend([0, y, None])\n",
    "    return go.Scatter(x=edges_x, y=edges_y, line=dict(width=1, color='rgba(211,211,211,0.5)'),\n",
    "                      hoverinfo='none', mode='lines', showlegend=False)\n",
    "\n",
    "# Create node positions\n",
    "num_related = len(also_buy_titles)\n",
    "node_positions = calculate_node_positions(num_related, radius=5)\n",
    "\n",
    "# Create edge traces\n",
    "edge_trace = create_edge_traces(node_positions)\n",
    "\n",
    "# Nodes and their ASIN labels\n",
    "nodes_x, nodes_y = zip(*([0, 0] + list(zip(*node_positions))))\n",
    "node_asin = ['Main'] + list(also_buy_titles.keys())\n",
    "\n",
    "# Create node traces\n",
    "node_trace = go.Scatter(\n",
    "    x=nodes_x, y=nodes_y,\n",
    "    mode='markers+text',\n",
    "    text=node_asin,\n",
    "    textposition=\"bottom center\",\n",
    "    hoverinfo='text',\n",
    "    hovertext=[f\"{product_data.get('title', 'Main Product')}\"] + [title for title in also_buy_titles.values()],\n",
    "    marker=dict(color=['lightskyblue'] + ['lavender'] * num_related, size=[20] + [10] * num_related),\n",
    "    showlegend=False\n",
    ")\n",
    "\n",
    "fig = go.Figure(data=[edge_trace, node_trace])\n",
    "\n",
    "# legend entries\n",
    "main_product_title = product_data.get('title', 'Main Product Title')\n",
    "fig.add_trace(go.Scatter(x=[None], y=[None], mode='markers',\n",
    "                         marker=dict(size=20, color='lightskyblue'),\n",
    "                         name=f\"Main Product: {main_product_title}\", showlegend=True))\n",
    "for asin, title in also_buy_titles.items():\n",
    "    fig.add_trace(go.Scatter(x=[None], y=[None], mode='markers',\n",
    "                             marker=dict(size=10, color='lavender'),\n",
    "                             name=f\"{title}\", showlegend=True))\n",
    "\n",
    "# Update layout\n",
    "fig.update_layout(\n",
    "    legend_title_text=f'Similar items to \"{main_product_title}\"',\n",
    "    legend=dict(yanchor=\"bottom\", y=-0.5, xanchor=\"center\", x=0.5),\n",
    "    hovermode='closest',\n",
    "    margin=dict(b=0, l=0, r=0, t=0, pad=4),\n",
    "    xaxis=dict(showgrid=False, zeroline=False, showticklabels=False, scaleanchor='y', scaleratio=1),\n",
    "    yaxis=dict(showgrid=False, zeroline=False, showticklabels=False),\n",
    "    plot_bgcolor='white'\n",
    ")\n",
    "\n",
    "# Show the figure\n",
    "fig.show()\n"
   ]
  },
  {
   "cell_type": "code",
   "execution_count": null,
   "metadata": {},
   "outputs": [],
   "source": []
  }
 ],
 "metadata": {
  "colab": {
   "provenance": []
  },
  "kernelspec": {
   "display_name": "Python 3 (ipykernel)",
   "language": "python",
   "name": "python3"
  },
  "language_info": {
   "codemirror_mode": {
    "name": "ipython",
    "version": 3
   },
   "file_extension": ".py",
   "mimetype": "text/x-python",
   "name": "python",
   "nbconvert_exporter": "python",
   "pygments_lexer": "ipython3",
   "version": "3.9.13"
  }
 },
 "nbformat": 4,
 "nbformat_minor": 1
}
