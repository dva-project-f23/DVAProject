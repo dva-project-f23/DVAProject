{
  "nbformat": 4,
  "nbformat_minor": 0,
  "metadata": {
    "colab": {
      "provenance": []
    },
    "kernelspec": {
      "name": "python3",
      "display_name": "Python 3"
    },
    "language_info": {
      "name": "python"
    }
  },
  "cells": [
    {
      "cell_type": "code",
      "execution_count": null,
      "metadata": {
        "id": "8ChpFdOUzxth"
      },
      "outputs": [],
      "source": [
        "import requests\n",
        "import json\n",
        "import csv\n",
        "from datetime import datetime\n",
        "from dateutil import relativedelta\n",
        "from collections import deque\n",
        "import plotly.express as px\n",
        "import pandas as pd"
      ]
    },
    {
      "cell_type": "code",
      "source": [
        "# Open ratings csv\n",
        "f = open('Electronics.csv')\n",
        "reader = csv.reader(f)"
      ],
      "metadata": {
        "id": "fyYijiuPz3gM"
      },
      "execution_count": null,
      "outputs": []
    },
    {
      "cell_type": "code",
      "source": [
        "# Get ratings for a specific product id and group by month\n",
        "ratings = dict()\n",
        "for line in f:\n",
        "\ts = line.split(\",\")\n",
        "\tasin = s[0]\n",
        "\trating = int(float(s[2]))\n",
        "\tunix_ts = int(s[3])\n",
        "\tdt = datetime.fromtimestamp(unix_ts)\n",
        "\tmy = datetime(dt.year, dt.month, 1)\n",
        "\tif asin == \"B003L1ZYYW\":\n",
        "\t\tif my not in ratings:\n",
        "\t\t\tratings[my] = [0, 0, 0, 0, 0]\n",
        "\t\tratings[my][rating-1] += 1"
      ],
      "metadata": {
        "id": "x6r__kBCz9jY"
      },
      "execution_count": null,
      "outputs": []
    },
    {
      "cell_type": "code",
      "source": [
        "# Find earliest and latest month of a rating\n",
        "smallest_key = min(ratings, key=lambda x: x)\n",
        "largest_key = max(ratings, key=lambda x: x) + relativedelta.relativedelta(months=2)\n",
        "\n",
        "# Calculate moving average\n",
        "moving_average = []\n",
        "months_dq = deque()\n",
        "sum_ratings = 0\n",
        "num_ratings = 0\n",
        "curr = smallest_key\n",
        "# Window size is 5 months\n",
        "for i in range(5):\n",
        "\tmonths_dq.append(curr)\n",
        "\tif curr in ratings:\n",
        "\t\tcurr_rating = ratings[curr]\n",
        "\t\tsum_ratings += (1*curr_rating[0] + 2*curr_rating[1] + 3*curr_rating[2] + 4*curr_rating[3] + 5*curr_rating[4])\n",
        "\t\tnum_ratings += curr_rating[0] + curr_rating[1] + curr_rating[2] + curr_rating[3] + curr_rating[4]\n",
        "\tcurr = curr + relativedelta.relativedelta(months=1)\n",
        "\n",
        "tup = (months_dq[2], sum_ratings / num_ratings)\n",
        "moving_average.append(tup)\n",
        "\n",
        "while (curr <= largest_key):\n",
        "\tremoved_month = months_dq.popleft()\n",
        "\tif removed_month in ratings:\n",
        "\t\tremoved_rating = ratings[removed_month]\n",
        "\t\tsum_ratings -= (1*removed_rating[0] + 2*removed_rating[1] + 3*removed_rating[2] + 4*removed_rating[3] + 5*removed_rating[4])\n",
        "\t\tnum_ratings -= (removed_rating[0] + removed_rating[1] + removed_rating[2] + removed_rating[3] + removed_rating[4])\n",
        "\tmonths_dq.append(curr)\n",
        "\tif curr in ratings:\n",
        "\t\tcurr_rating = ratings[curr]\n",
        "\t\tsum_ratings += (1*curr_rating[0] + 2*curr_rating[1] + 3*curr_rating[2] + 4*curr_rating[3] + 5*curr_rating[4])\n",
        "\t\tnum_ratings += curr_rating[0] + curr_rating[1] + curr_rating[2] + curr_rating[3] + curr_rating[4]\n",
        "\tcurr = curr + relativedelta.relativedelta(months=1)\n",
        "\taverage_rating = 0\n",
        "  # If no reviews in the window, append previous value\n",
        "\tif (num_ratings == 0):\n",
        "\t\taverage_rating = moving_average[len(moving_average)-1][1]\n",
        "\telse:\n",
        "\t\taverage_rating = sum_ratings / num_ratings\n",
        "\ttup = (months_dq[2], average_rating)\n",
        "\tmoving_average.append(tup)"
      ],
      "metadata": {
        "id": "OnkLjG6N0M4b"
      },
      "execution_count": null,
      "outputs": []
    },
    {
      "cell_type": "code",
      "source": [
        "# Visualization\n",
        "x_list = [t[0] for t in moving_average]\n",
        "y_list = [t[1] for t in moving_average]\n",
        "df = pd.DataFrame({'x_data':x_list, 'y_data':y_list})\n",
        "fig = px.line(df, x='x_data', y='y_data', title=\"Average Rating over Time\", markers=True)\n",
        "fig.show()"
      ],
      "metadata": {
        "id": "3Fp-EXaI1mRB"
      },
      "execution_count": null,
      "outputs": []
    }
  ]
}