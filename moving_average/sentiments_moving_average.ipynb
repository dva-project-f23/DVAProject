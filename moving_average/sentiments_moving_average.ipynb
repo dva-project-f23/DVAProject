{
  "nbformat": 4,
  "nbformat_minor": 0,
  "metadata": {
    "colab": {
      "provenance": []
    },
    "kernelspec": {
      "name": "python3",
      "display_name": "Python 3"
    },
    "language_info": {
      "name": "python"
    }
  },
  "cells": [
    {
      "cell_type": "code",
      "execution_count": null,
      "metadata": {
        "id": "ulmX6aw37-6k"
      },
      "outputs": [],
      "source": [
        "import requests\n",
        "import json\n",
        "import csv\n",
        "from datetime import datetime\n",
        "from dateutil import relativedelta\n",
        "from collections import deque\n",
        "import plotly.express as px\n",
        "import pandas as pd"
      ]
    },
    {
      "cell_type": "code",
      "source": [
        "# Open sentiment csv\n",
        "f = open('review_sentiment_preds.csv')\n",
        "reader = csv.reader(f)\n",
        "next(reader)"
      ],
      "metadata": {
        "id": "mTcfU1DX8QLf"
      },
      "execution_count": null,
      "outputs": []
    },
    {
      "cell_type": "code",
      "source": [
        "# Get sentiment for a specific product id and group by month\n",
        "sentiments = dict()\n",
        "for line in f:\n",
        "\ts = line.split(\",\")\n",
        "\tsentiment = int(s[2])\n",
        "\tunix_ts = int(s[0])\n",
        "\tdt = datetime.fromtimestamp(unix_ts)\n",
        "\tmy = datetime(dt.year, dt.month, 1)\n",
        "\tif my not in sentiments:\n",
        "\t\tsentiments[my] = [0, 0]\n",
        "\tsentiments[my][sentiment] += 1"
      ],
      "metadata": {
        "id": "jhE0Gtt18X0z"
      },
      "execution_count": null,
      "outputs": []
    },
    {
      "cell_type": "code",
      "source": [
        "# Find earliest and latest month of a review\n",
        "smallest_key = min(sentiments, key=lambda x: x)\n",
        "largest_key = max(sentiments, key=lambda x: x) + relativedelta.relativedelta(months=2)\n",
        "\n",
        "# Calculate moving average\n",
        "moving_average = []\n",
        "months_dq = deque()\n",
        "pos_sentiments = 0\n",
        "num_sentiments = 0\n",
        "curr = smallest_key\n",
        "# Window size is 5 months\n",
        "for i in range(5):\n",
        "\tmonths_dq.append(curr)\n",
        "\tif curr in sentiments:\n",
        "\t\tcurr_sentiment = sentiments[curr]\n",
        "\t\tpos_sentiments += curr_sentiment[1]\n",
        "\t\tnum_sentiments += curr_sentiment[0] + curr_sentiment[1]\n",
        "\tcurr = curr + relativedelta.relativedelta(months=1)\n",
        "\n",
        "tup = (months_dq[2], pos_sentiments / num_sentiments)\n",
        "moving_average.append(tup)\n",
        "\n",
        "while (curr <= largest_key):\n",
        "\tremoved_month = months_dq.popleft()\n",
        "\tif removed_month in sentiments:\n",
        "\t\tremoved_sentiment = sentiments[removed_month]\n",
        "\t\tpos_sentiments -= removed_sentiment[1]\n",
        "\t\tnum_sentiments -= (removed_sentiment[0] + removed_sentiment[1])\n",
        "\tmonths_dq.append(curr)\n",
        "\tif curr in sentiments:\n",
        "\t\tcurr_sentiment = sentiments[curr]\n",
        "\t\tpos_sentiments += curr_sentiment[1]\n",
        "\t\tnum_sentiments += curr_sentiment[0] + curr_sentiment[1]\n",
        "\tcurr = curr + relativedelta.relativedelta(months=1)\n",
        "\taverage_sentiment = 0\n",
        "  # If no reviews in the window, append previous value\n",
        "\tif (num_sentiments == 0):\n",
        "\t\taverage_sentiment = moving_average[len(moving_average)-1][1]\n",
        "\telse:\n",
        "\t\taverage_sentiment = pos_sentiments / num_sentiments\n",
        "\ttup = (months_dq[2], average_sentiment)\n",
        "\tmoving_average.append(tup)"
      ],
      "metadata": {
        "id": "WPeCOdNE8eez"
      },
      "execution_count": null,
      "outputs": []
    },
    {
      "cell_type": "code",
      "source": [
        "# Visualization\n",
        "x_list = [t[0] for t in moving_average]\n",
        "y_list = [t[1] for t in moving_average]\n",
        "df = pd.DataFrame({'x_data':x_list, 'y_data':y_list})\n",
        "fig = px.line(df, x='x_data', y='y_data', title=\"Review Sentiment over Time\", markers=True)\n",
        "fig.show()"
      ],
      "metadata": {
        "id": "B1cqmI5_8voo"
      },
      "execution_count": null,
      "outputs": []
    }
  ]
}